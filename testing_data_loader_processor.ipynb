{
 "cells": [
  {
   "cell_type": "code",
   "execution_count": 1,
   "metadata": {},
   "outputs": [
    {
     "name": "stderr",
     "output_type": "stream",
     "text": [
      "/Users/jonathanbugg/Desktop/new_ml_pipeline/bb_ml_pipeline/.venv/lib/python3.10/site-packages/tqdm/auto.py:21: TqdmWarning: IProgress not found. Please update jupyter and ipywidgets. See https://ipywidgets.readthedocs.io/en/stable/user_install.html\n",
      "  from .autonotebook import tqdm as notebook_tqdm\n"
     ]
    },
    {
     "name": "stdout",
     "output_type": "stream",
     "text": [
      "Processing data...\n"
     ]
    }
   ],
   "source": [
    "from bb_ml_pipeline.data.data_loader import DataLoader\n",
    "from bb_ml_pipeline.data.data_processor import DataProcessor\n",
    "from bb_ml_pipeline.models.lgbm_model import LGBMModel\n",
    "\n",
    "data_config=\"data_config_train.json\"\n",
    "\n",
    "# Create loader and validate\n",
    "loader = DataLoader(data_config)\n",
    "loader.load_data()\n",
    "loader.load_metadata()\n",
    "\n",
    "# Create a modeling config for the test\n",
    "modeling_config = {'target_variable': 'target'}\n",
    "\n",
    "validation_results = loader.validate_data(modeling_config)\n",
    "\n",
    "y, X = loader.get_target_and_features(modeling_config)\n",
    "\n",
    "# Process data\n",
    "print(\"Processing data...\")\n",
    "data_processor = DataProcessor(loader.metadata)\n",
    "X_processed = data_processor.fit_transform(X)\n"
   ]
  },
  {
   "cell_type": "code",
   "execution_count": null,
   "metadata": {},
   "outputs": [],
   "source": [
    "print(X_processed.dtypes)\n",
    "X_processed.head()"
   ]
  }
 ],
 "metadata": {
  "kernelspec": {
   "display_name": ".venv",
   "language": "python",
   "name": "python3"
  },
  "language_info": {
   "codemirror_mode": {
    "name": "ipython",
    "version": 3
   },
   "file_extension": ".py",
   "mimetype": "text/x-python",
   "name": "python",
   "nbconvert_exporter": "python",
   "pygments_lexer": "ipython3",
   "version": "3.10.11"
  }
 },
 "nbformat": 4,
 "nbformat_minor": 2
}
